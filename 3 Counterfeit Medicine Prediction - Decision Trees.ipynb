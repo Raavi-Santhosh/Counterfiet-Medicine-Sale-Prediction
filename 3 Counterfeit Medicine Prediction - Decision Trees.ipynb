{
 "cells": [
  {
   "cell_type": "markdown",
   "metadata": {},
   "source": [
    "# Exploratory Data Analysis"
   ]
  },
  {
   "cell_type": "code",
   "execution_count": null,
   "metadata": {},
   "outputs": [],
   "source": [
    "import numpy as np\n",
    "import pandas as pd\n",
    "import matplotlib.pyplot as plt\n",
    "import seaborn as sns"
   ]
  },
  {
   "cell_type": "code",
   "execution_count": null,
   "metadata": {},
   "outputs": [],
   "source": [
    "file_path = \"./DataSets/\"\n",
    "training_data = pd.read_csv(file_path + 'counterfeit_train.csv')\n",
    "production_data = pd.read_csv(file_path + 'counterfeit_test.csv')"
   ]
  },
  {
   "cell_type": "code",
   "execution_count": null,
   "metadata": {},
   "outputs": [],
   "source": [
    "training_data.head()"
   ]
  },
  {
   "cell_type": "code",
   "execution_count": null,
   "metadata": {},
   "outputs": [],
   "source": [
    "production_data.head()"
   ]
  },
  {
   "cell_type": "code",
   "execution_count": null,
   "metadata": {},
   "outputs": [],
   "source": [
    "training_data['Counterfeit_Weight'].mean()"
   ]
  },
  {
   "cell_type": "code",
   "execution_count": null,
   "metadata": {},
   "outputs": [],
   "source": [
    "training_data.info()"
   ]
  },
  {
   "cell_type": "code",
   "execution_count": null,
   "metadata": {},
   "outputs": [],
   "source": [
    "production_data.info()"
   ]
  },
  {
   "cell_type": "markdown",
   "metadata": {},
   "source": [
    "Creating a Dummy sales variable in the production data and combining it with training data for further data manipulations"
   ]
  },
  {
   "cell_type": "code",
   "execution_count": null,
   "metadata": {},
   "outputs": [],
   "source": [
    "production_data['Counterfeit_Sales'] = np.NAN"
   ]
  },
  {
   "cell_type": "code",
   "execution_count": null,
   "metadata": {},
   "outputs": [],
   "source": [
    "training_data['Data_from'] = 'Train'\n",
    "production_data['Data_from'] = 'Production'"
   ]
  },
  {
   "cell_type": "code",
   "execution_count": null,
   "metadata": {},
   "outputs": [],
   "source": [
    "full_data = pd.concat([training_data,production_data],axis=0)"
   ]
  },
  {
   "cell_type": "code",
   "execution_count": null,
   "metadata": {},
   "outputs": [],
   "source": [
    "full_data.loc[full_data['Data_from'] == 'Train',]"
   ]
  },
  {
   "cell_type": "code",
   "execution_count": null,
   "metadata": {},
   "outputs": [],
   "source": [
    "full_data['DistArea_ID'].value_counts()"
   ]
  },
  {
   "cell_type": "code",
   "execution_count": null,
   "metadata": {},
   "outputs": [],
   "source": [
    "full_data['Area_Type'].value_counts()"
   ]
  },
  {
   "cell_type": "code",
   "execution_count": null,
   "metadata": {},
   "outputs": [],
   "source": [
    "full_data.loc[full_data['Area_Type']=='DownTown','DistArea_ID'].unique()"
   ]
  },
  {
   "cell_type": "code",
   "execution_count": null,
   "metadata": {},
   "outputs": [],
   "source": [
    "full_data.loc[full_data['Area_Type']=='MidTownResidential','DistArea_ID'].unique()"
   ]
  },
  {
   "cell_type": "code",
   "execution_count": null,
   "metadata": {},
   "outputs": [],
   "source": [
    "full_data.loc[full_data['Area_Type']=='CityLimits','DistArea_ID'].unique()"
   ]
  },
  {
   "cell_type": "code",
   "execution_count": null,
   "metadata": {},
   "outputs": [],
   "source": [
    "full_data.loc[full_data['Area_Type']=='Industrial','DistArea_ID'].unique()"
   ]
  },
  {
   "cell_type": "code",
   "execution_count": null,
   "metadata": {},
   "outputs": [],
   "source": [
    "full_data.head()"
   ]
  },
  {
   "cell_type": "code",
   "execution_count": null,
   "metadata": {},
   "outputs": [],
   "source": [
    "full_data['Medicine_Type'].value_counts()"
   ]
  },
  {
   "cell_type": "code",
   "execution_count": null,
   "metadata": {},
   "outputs": [],
   "source": [
    "round(full_data.groupby('Medicine_Type')['Counterfeit_Sales'].mean(),2)"
   ]
  },
  {
   "cell_type": "code",
   "execution_count": null,
   "metadata": {},
   "outputs": [],
   "source": [
    "full_data['SidEffect_Level'].value_counts()"
   ]
  },
  {
   "cell_type": "code",
   "execution_count": null,
   "metadata": {},
   "outputs": [],
   "source": [
    "full_data['Area_dist_level'].value_counts()"
   ]
  },
  {
   "cell_type": "markdown",
   "metadata": {},
   "source": [
    "#### After looking into all the categorical  variables, we cannot drop them and we create dummies for each variable for simplicity later we can ckeck for additional options to improve the performance"
   ]
  },
  {
   "cell_type": "code",
   "execution_count": null,
   "metadata": {},
   "outputs": [],
   "source": [
    "full_data.head(10)"
   ]
  },
  {
   "cell_type": "code",
   "execution_count": null,
   "metadata": {},
   "outputs": [],
   "source": [
    "d = pd.get_dummies(full_data['DistArea_ID'],prefix='DistID',drop_first=True)"
   ]
  },
  {
   "cell_type": "code",
   "execution_count": null,
   "metadata": {},
   "outputs": [],
   "source": [
    "full_data = pd.concat((full_data,d),axis='columns')"
   ]
  },
  {
   "cell_type": "code",
   "execution_count": null,
   "metadata": {},
   "outputs": [],
   "source": [
    "full_data.drop('DistArea_ID',axis='columns',inplace=True)"
   ]
  },
  {
   "cell_type": "code",
   "execution_count": null,
   "metadata": {},
   "outputs": [],
   "source": [
    "full_data"
   ]
  },
  {
   "cell_type": "markdown",
   "metadata": {},
   "source": [
    "##### Medicine variable - Dummy Creations"
   ]
  },
  {
   "cell_type": "code",
   "execution_count": null,
   "metadata": {},
   "outputs": [],
   "source": [
    "d = pd.get_dummies(full_data['Medicine_Type'],prefix='MedType',drop_first=True)\n",
    "full_data = pd.concat((full_data,d),axis='columns')\n",
    "full_data.drop('Medicine_Type',axis='columns',inplace=True,)"
   ]
  },
  {
   "cell_type": "code",
   "execution_count": null,
   "metadata": {},
   "outputs": [],
   "source": [
    "full_data"
   ]
  },
  {
   "cell_type": "markdown",
   "metadata": {},
   "source": [
    "##### SidEffect_Level - Dummy Creation"
   ]
  },
  {
   "cell_type": "code",
   "execution_count": null,
   "metadata": {},
   "outputs": [],
   "source": [
    "full_data['SidEffect_Level'].value_counts()"
   ]
  },
  {
   "cell_type": "code",
   "execution_count": null,
   "metadata": {},
   "outputs": [],
   "source": [
    "d = pd.get_dummies(full_data['SidEffect_Level'],prefix='SidLvl',drop_first=True)\n",
    "full_data = pd.concat((full_data,d),axis='columns')\n",
    "full_data.drop('SidEffect_Level',axis='columns',inplace = True)"
   ]
  },
  {
   "cell_type": "code",
   "execution_count": null,
   "metadata": {},
   "outputs": [],
   "source": [
    "full_data"
   ]
  },
  {
   "cell_type": "markdown",
   "metadata": {},
   "source": [
    "##### Area_Type - Dummy Creation"
   ]
  },
  {
   "cell_type": "code",
   "execution_count": null,
   "metadata": {},
   "outputs": [],
   "source": [
    "d = pd.get_dummies(full_data['Area_Type'],prefix='ArTyp',drop_first=True)\n",
    "full_data = pd.concat((full_data,d),axis='columns')\n",
    "full_data.drop('Area_Type',axis='columns',inplace = True)"
   ]
  },
  {
   "cell_type": "code",
   "execution_count": null,
   "metadata": {},
   "outputs": [],
   "source": [
    "full_data"
   ]
  },
  {
   "cell_type": "markdown",
   "metadata": {},
   "source": [
    "##### Area_dist_level - Dummy Creation"
   ]
  },
  {
   "cell_type": "code",
   "execution_count": null,
   "metadata": {},
   "outputs": [],
   "source": [
    "d = pd.get_dummies(full_data['Area_dist_level'],prefix='ArDisTyp',drop_first=True)\n",
    "full_data = pd.concat((full_data,d),axis='columns')\n",
    "full_data.drop('Area_dist_level',axis='columns',inplace = True)"
   ]
  },
  {
   "cell_type": "code",
   "execution_count": null,
   "metadata": {},
   "outputs": [],
   "source": [
    "full_data"
   ]
  },
  {
   "cell_type": "markdown",
   "metadata": {},
   "source": [
    "##### Area_City_Type \t- Dummy Creation"
   ]
  },
  {
   "cell_type": "code",
   "execution_count": null,
   "metadata": {},
   "outputs": [],
   "source": [
    "d = pd.get_dummies(full_data['Area_City_Type'],prefix='ArCtyTyp',drop_first=True)\n",
    "full_data = pd.concat((full_data,d),axis='columns')\n",
    "full_data.drop('Area_City_Type',axis='columns',inplace = True)"
   ]
  },
  {
   "cell_type": "code",
   "execution_count": null,
   "metadata": {},
   "outputs": [],
   "source": [
    "full_data"
   ]
  },
  {
   "cell_type": "markdown",
   "metadata": {},
   "source": [
    "##### Dropping Medicine ID"
   ]
  },
  {
   "cell_type": "code",
   "execution_count": null,
   "metadata": {},
   "outputs": [],
   "source": [
    "full_data.drop('Medicine_ID',axis='columns',inplace=True)"
   ]
  },
  {
   "cell_type": "code",
   "execution_count": null,
   "metadata": {},
   "outputs": [],
   "source": [
    "full_data"
   ]
  },
  {
   "cell_type": "markdown",
   "metadata": {},
   "source": [
    "##### Imputing Counterfeit_weight missing values with mean from train dataset only"
   ]
  },
  {
   "cell_type": "code",
   "execution_count": null,
   "metadata": {},
   "outputs": [],
   "source": [
    "wgt_mean = round(full_data.loc[full_data['Data_from'] == 'Train','Counterfeit_Weight'].mean(),3)\n"
   ]
  },
  {
   "cell_type": "code",
   "execution_count": null,
   "metadata": {},
   "outputs": [],
   "source": [
    "wgt_mean"
   ]
  },
  {
   "cell_type": "code",
   "execution_count": null,
   "metadata": {},
   "outputs": [],
   "source": [
    "full_data['Counterfeit_Weight'].fillna(wgt_mean,inplace=True)"
   ]
  },
  {
   "cell_type": "code",
   "execution_count": null,
   "metadata": {},
   "outputs": [],
   "source": [
    "full_data.info()"
   ]
  },
  {
   "cell_type": "markdown",
   "metadata": {},
   "source": [
    "##### Now Saeperating data into Training and Production"
   ]
  },
  {
   "cell_type": "code",
   "execution_count": null,
   "metadata": {},
   "outputs": [],
   "source": [
    "training_data = full_data.loc[full_data['Data_from'] == 'Train']\n",
    "training_data.drop('Data_from',axis=1,inplace=True)"
   ]
  },
  {
   "cell_type": "code",
   "execution_count": null,
   "metadata": {},
   "outputs": [],
   "source": [
    "training_data"
   ]
  },
  {
   "cell_type": "code",
   "execution_count": null,
   "metadata": {},
   "outputs": [],
   "source": [
    "production_data = full_data.loc[full_data['Data_from'] == 'Production']"
   ]
  },
  {
   "cell_type": "code",
   "execution_count": null,
   "metadata": {},
   "outputs": [],
   "source": [
    "production_data.drop(['Counterfeit_Sales','Data_from'],axis=True,inplace=True)\n",
    "production_data"
   ]
  },
  {
   "cell_type": "markdown",
   "metadata": {},
   "source": [
    "# Splitting training data into Train and Test"
   ]
  },
  {
   "cell_type": "code",
   "execution_count": null,
   "metadata": {},
   "outputs": [],
   "source": [
    "from sklearn.model_selection import train_test_split"
   ]
  },
  {
   "cell_type": "code",
   "execution_count": null,
   "metadata": {},
   "outputs": [],
   "source": [
    "train,test = train_test_split(training_data,test_size=0.2,random_state = 2,)"
   ]
  },
  {
   "cell_type": "code",
   "execution_count": null,
   "metadata": {},
   "outputs": [],
   "source": [
    "x_train = train.drop('Counterfeit_Sales',axis='columns')\n",
    "y_train = train['Counterfeit_Sales']\n",
    "\n",
    "x_test = test.drop('Counterfeit_Sales',axis='columns')\n",
    "y_test = test['Counterfeit_Sales']\n",
    "\n",
    "print('x_train : ',x_train.shape)\n",
    "print('y_train : ',y_train.shape)\n",
    "\n",
    "print('x_test : ',x_test.shape)\n",
    "print('y_test : ',y_test.shape)"
   ]
  },
  {
   "cell_type": "markdown",
   "metadata": {},
   "source": [
    "# Linear Regression Model"
   ]
  },
  {
   "cell_type": "code",
   "execution_count": 54,
   "metadata": {},
   "outputs": [],
   "source": [
    "from sklearn.tree import DecisionTreeRegressor\n",
    "from sklearn import metrics\n",
    "from sklearn.model_selection import RandomizedSearchCV"
   ]
  },
  {
   "cell_type": "code",
   "execution_count": null,
   "metadata": {},
   "outputs": [],
   "source": [
    "def my_rmse(actual,predicted):\n",
    "    \"\"\"Function to calculate Root Mean Square Error\"\"\"\n",
    "    \n",
    "    return (((actual-predicted)**2).mean())**1/2"
   ]
  },
  {
   "cell_type": "markdown",
   "metadata": {},
   "source": [
    "#### Decision tree with CV to get best max_depth"
   ]
  },
  {
   "cell_type": "code",
   "execution_count": 55,
   "metadata": {},
   "outputs": [],
   "source": [
    "dtree = DecisionTreeRegressor(random_state=2,criterion='mae')"
   ]
  },
  {
   "cell_type": "code",
   "execution_count": 71,
   "metadata": {},
   "outputs": [],
   "source": [
    "params = {'max_depth' : [2,3,4,5,6,7,8,9,10,11,12,14,15,16,17,18,19,None]}\n",
    "iterations = 19"
   ]
  },
  {
   "cell_type": "code",
   "execution_count": 72,
   "metadata": {},
   "outputs": [],
   "source": [
    "dtree_random = RandomizedSearchCV(dtree,param_distributions=params,n_jobs=-1,n_iter=iterations,cv=5,\n",
    "                                  random_state=5,scoring='r2')"
   ]
  },
  {
   "cell_type": "code",
   "execution_count": 73,
   "metadata": {},
   "outputs": [
    {
     "name": "stderr",
     "output_type": "stream",
     "text": [
      "/Users/santu/opt/anaconda3/lib/python3.7/site-packages/sklearn/model_selection/_search.py:266: UserWarning: The total space of parameters 18 is smaller than n_iter=19. Running 18 iterations. For exhaustive searches, use GridSearchCV.\n",
      "  % (grid_size, self.n_iter, grid_size), UserWarning)\n"
     ]
    },
    {
     "data": {
      "text/plain": [
       "RandomizedSearchCV(cv=5, error_score='raise-deprecating',\n",
       "                   estimator=DecisionTreeRegressor(criterion='mae',\n",
       "                                                   max_depth=None,\n",
       "                                                   max_features=None,\n",
       "                                                   max_leaf_nodes=None,\n",
       "                                                   min_impurity_decrease=0.0,\n",
       "                                                   min_impurity_split=None,\n",
       "                                                   min_samples_leaf=1,\n",
       "                                                   min_samples_split=2,\n",
       "                                                   min_weight_fraction_leaf=0.0,\n",
       "                                                   presort=False,\n",
       "                                                   random_state=2,\n",
       "                                                   splitter='best'),\n",
       "                   iid='warn', n_iter=19, n_jobs=-1,\n",
       "                   param_distributions={'max_depth': [2, 3, 4, 5, 6, 7, 8, 9,\n",
       "                                                      10, 11, 12, 14, 15, 16,\n",
       "                                                      17, 18, 19, None]},\n",
       "                   pre_dispatch='2*n_jobs', random_state=5, refit=True,\n",
       "                   return_train_score=False, scoring='r2', verbose=0)"
      ]
     },
     "execution_count": 73,
     "metadata": {},
     "output_type": "execute_result"
    }
   ],
   "source": [
    "dtree_random.fit(x_train,y_train)"
   ]
  },
  {
   "cell_type": "code",
   "execution_count": 79,
   "metadata": {},
   "outputs": [
    {
     "data": {
      "text/plain": [
       "{'max_depth': 5}"
      ]
     },
     "execution_count": 79,
     "metadata": {},
     "output_type": "execute_result"
    }
   ],
   "source": [
    "dtree_random.best_params_"
   ]
  },
  {
   "cell_type": "code",
   "execution_count": 80,
   "metadata": {},
   "outputs": [
    {
     "data": {
      "text/plain": [
       "0.5944984998612384"
      ]
     },
     "execution_count": 80,
     "metadata": {},
     "output_type": "execute_result"
    }
   ],
   "source": [
    "dtree_random.best_score_"
   ]
  },
  {
   "cell_type": "code",
   "execution_count": 81,
   "metadata": {},
   "outputs": [
    {
     "data": {
      "text/plain": [
       "{'mean_fit_time': array([1.54804759, 1.94858141, 2.18471179, 2.33722878, 2.43084264,\n",
       "        2.49856482, 2.55130434, 2.5975071 , 2.6603066 , 2.67155132,\n",
       "        2.68103952, 2.73235188, 2.7475162 , 2.76424885, 2.84292932,\n",
       "        2.96497035, 2.77335796, 2.16831226]),\n",
       " 'std_fit_time': array([0.08482219, 0.08364797, 0.07906525, 0.08290506, 0.10522364,\n",
       "        0.08188334, 0.08185963, 0.08616665, 0.08960411, 0.08208941,\n",
       "        0.09846132, 0.06781942, 0.08163431, 0.08836984, 0.10294583,\n",
       "        0.09051225, 0.29647052, 0.14548796]),\n",
       " 'mean_score_time': array([0.00148177, 0.00148759, 0.00148911, 0.00150423, 0.001511  ,\n",
       "        0.00151343, 0.00151143, 0.00154176, 0.00154262, 0.00157242,\n",
       "        0.00157733, 0.00168409, 0.00160875, 0.00166197, 0.00171785,\n",
       "        0.00176802, 0.00155592, 0.00141835]),\n",
       " 'std_score_time': array([3.41579861e-05, 4.44463903e-05, 2.16724456e-05, 3.03773340e-05,\n",
       "        3.21561529e-05, 1.55440137e-05, 2.66327960e-05, 1.80969596e-05,\n",
       "        1.30346732e-05, 3.05984588e-05, 1.73803056e-05, 1.19253780e-04,\n",
       "        3.11957204e-05, 3.75877760e-05, 4.43544174e-05, 5.26989417e-05,\n",
       "        2.35151363e-04, 2.99197250e-04]),\n",
       " 'param_max_depth': masked_array(data=[2, 3, 4, 5, 6, 7, 8, 9, 10, 11, 12, 14, 15, 16, 17, 18,\n",
       "                    19, None],\n",
       "              mask=[False, False, False, False, False, False, False, False,\n",
       "                    False, False, False, False, False, False, False, False,\n",
       "                    False, False],\n",
       "        fill_value='?',\n",
       "             dtype=object),\n",
       " 'params': [{'max_depth': 2},\n",
       "  {'max_depth': 3},\n",
       "  {'max_depth': 4},\n",
       "  {'max_depth': 5},\n",
       "  {'max_depth': 6},\n",
       "  {'max_depth': 7},\n",
       "  {'max_depth': 8},\n",
       "  {'max_depth': 9},\n",
       "  {'max_depth': 10},\n",
       "  {'max_depth': 11},\n",
       "  {'max_depth': 12},\n",
       "  {'max_depth': 14},\n",
       "  {'max_depth': 15},\n",
       "  {'max_depth': 16},\n",
       "  {'max_depth': 17},\n",
       "  {'max_depth': 18},\n",
       "  {'max_depth': 19},\n",
       "  {'max_depth': None}],\n",
       " 'split0_test_score': array([0.41150619, 0.51277077, 0.57874954, 0.57926311, 0.56427961,\n",
       "        0.53308333, 0.51107106, 0.49634216, 0.47760843, 0.43435708,\n",
       "        0.38398653, 0.33197767, 0.31075212, 0.2942412 , 0.27271946,\n",
       "        0.26575193, 0.25646881, 0.18863625]),\n",
       " 'split1_test_score': array([0.38454541, 0.45696687, 0.56553448, 0.59363825, 0.58201564,\n",
       "        0.56668389, 0.56312004, 0.52738946, 0.50827641, 0.47862812,\n",
       "        0.4574805 , 0.40614434, 0.38447905, 0.3595651 , 0.34277113,\n",
       "        0.32605249, 0.29799853, 0.24147488]),\n",
       " 'split2_test_score': array([0.42798208, 0.52889407, 0.60374078, 0.60161666, 0.59674163,\n",
       "        0.58418344, 0.55597291, 0.53260719, 0.479969  , 0.46352375,\n",
       "        0.42826157, 0.35727031, 0.35032836, 0.30449043, 0.27467619,\n",
       "        0.22840527, 0.23774734, 0.07751567]),\n",
       " 'split3_test_score': array([0.41170639, 0.51636781, 0.57671991, 0.59503929, 0.59906892,\n",
       "        0.56109248, 0.53579044, 0.53207172, 0.53522932, 0.5084765 ,\n",
       "        0.47623772, 0.4048089 , 0.37592413, 0.31337627, 0.26262538,\n",
       "        0.22610839, 0.23620869, 0.15040471]),\n",
       " 'split4_test_score': array([0.44126825, 0.5252931 , 0.58912401, 0.60294293, 0.5920461 ,\n",
       "        0.59050266, 0.54100136, 0.49280753, 0.45399944, 0.44471819,\n",
       "        0.40653377, 0.29636202, 0.28430248, 0.26980231, 0.27040072,\n",
       "        0.20641987, 0.21177563, 0.13464059]),\n",
       " 'mean_test_score': array([0.41539692, 0.50805536, 0.58277258, 0.5944985 , 0.58682942,\n",
       "        0.56710487, 0.54139124, 0.51624791, 0.49102331, 0.46594462,\n",
       "        0.43050441, 0.35932419, 0.34116765, 0.30830212, 0.28464119,\n",
       "        0.25055568, 0.24804645, 0.1585388 ]),\n",
       " 'std_test_score': array([0.0190158 , 0.02620349, 0.01288482, 0.00842764, 0.01270481,\n",
       "        0.02016331, 0.01808812, 0.01781926, 0.0280151 , 0.02616961,\n",
       "        0.03335648, 0.04236811, 0.03827516, 0.02948746, 0.0293551 ,\n",
       "        0.04234816, 0.02873142, 0.05475127]),\n",
       " 'rank_test_score': array([11,  7,  3,  1,  2,  4,  5,  6,  8,  9, 10, 12, 13, 14, 15, 16, 17,\n",
       "        18], dtype=int32)}"
      ]
     },
     "execution_count": 81,
     "metadata": {},
     "output_type": "execute_result"
    }
   ],
   "source": [
    "dtree_random.cv_results_"
   ]
  },
  {
   "cell_type": "code",
   "execution_count": 82,
   "metadata": {},
   "outputs": [
    {
     "data": {
      "text/plain": [
       "DecisionTreeRegressor(criterion='mae', max_depth=5, max_features=None,\n",
       "                      max_leaf_nodes=None, min_impurity_decrease=0.0,\n",
       "                      min_impurity_split=None, min_samples_leaf=1,\n",
       "                      min_samples_split=2, min_weight_fraction_leaf=0.0,\n",
       "                      presort=False, random_state=2, splitter='best')"
      ]
     },
     "execution_count": 82,
     "metadata": {},
     "output_type": "execute_result"
    }
   ],
   "source": [
    "dtree_random.best_estimator_"
   ]
  },
  {
   "cell_type": "code",
   "execution_count": 83,
   "metadata": {},
   "outputs": [],
   "source": [
    "dtree = dtree_random.best_estimator_\n",
    "dtree.fit(x_train,y_train)\n",
    "pred = dtree.predict(x_test)"
   ]
  },
  {
   "cell_type": "code",
   "execution_count": 84,
   "metadata": {},
   "outputs": [
    {
     "name": "stdout",
     "output_type": "stream",
     "text": [
      "Mean Absolute Error =  488.0314000000002\n",
      "Root Mean Square Error =  625993.4594418913\n",
      "Our model submission performance :  0.6949803749999999\n"
     ]
    }
   ],
   "source": [
    "print('Mean Absolute Error = ', metrics.median_absolute_error(y_test,pred))\n",
    "print('Root Mean Square Error = ',my_rmse(y_test,pred))\n",
    "print(\"Our model submission performance : \",1-(metrics.median_absolute_error(y_test,pred)/1600))"
   ]
  },
  {
   "cell_type": "code",
   "execution_count": 87,
   "metadata": {},
   "outputs": [
    {
     "name": "stdout",
     "output_type": "stream",
     "text": [
      "performance on train data\n",
      "Mean Absolute Error =  493.3578\n",
      "Root Mean Square Error =  561513.4545339242\n",
      "Our model submission performance :  0.691651375\n"
     ]
    }
   ],
   "source": [
    "print(\"performance on train data\")\n",
    "pred_train = dtree.predict(x_train)\n",
    "print('Mean Absolute Error = ', metrics.median_absolute_error(y_train,pred_train))\n",
    "print('Root Mean Square Error = ',my_rmse(y_train,pred_train))\n",
    "print(\"Our model submission performance : \",1-(metrics.median_absolute_error(y_train,pred_train)/1600))"
   ]
  },
  {
   "cell_type": "markdown",
   "metadata": {},
   "source": [
    "#### Decision trees with max depth and min features CV"
   ]
  },
  {
   "cell_type": "code",
   "execution_count": 89,
   "metadata": {},
   "outputs": [],
   "source": [
    "params = {\n",
    "    'max_depth' : [2,3,4,5,6,7,8,9,10,11,12,13,14,15,16,17,18,19,None],\n",
    "    'max_features' : list(range(3,38))\n",
    "}"
   ]
  },
  {
   "cell_type": "code",
   "execution_count": 90,
   "metadata": {},
   "outputs": [],
   "source": [
    "dtree = DecisionTreeRegressor(criterion='mae',random_state=2)"
   ]
  },
  {
   "cell_type": "code",
   "execution_count": 91,
   "metadata": {},
   "outputs": [],
   "source": [
    "from sklearn.model_selection import GridSearchCV"
   ]
  },
  {
   "cell_type": "code",
   "execution_count": 92,
   "metadata": {},
   "outputs": [],
   "source": [
    "dtree_random = GridSearchCV(dtree,scoring='r2',n_jobs=-1,cv=5,param_grid=params)"
   ]
  },
  {
   "cell_type": "code",
   "execution_count": 93,
   "metadata": {},
   "outputs": [
    {
     "data": {
      "text/plain": [
       "GridSearchCV(cv=5, error_score='raise-deprecating',\n",
       "             estimator=DecisionTreeRegressor(criterion='mae', max_depth=None,\n",
       "                                             max_features=None,\n",
       "                                             max_leaf_nodes=None,\n",
       "                                             min_impurity_decrease=0.0,\n",
       "                                             min_impurity_split=None,\n",
       "                                             min_samples_leaf=1,\n",
       "                                             min_samples_split=2,\n",
       "                                             min_weight_fraction_leaf=0.0,\n",
       "                                             presort=False, random_state=2,\n",
       "                                             splitter='best'),\n",
       "             iid='warn', n_jobs=-1,\n",
       "             param_grid={'max_depth': [2, 3, 4, 5, 6, 7, 8, 9, 10, 11, 12, 13,\n",
       "                                       14, 15, 16, 17, 18, 19, None],\n",
       "                         'max_features': [3, 4, 5, 6, 7, 8, 9, 10, 11, 12, 13,\n",
       "                                          14, 15, 16, 17, 18, 19, 20, 21, 22,\n",
       "                                          23, 24, 25, 26, 27, 28, 29, 30, 31,\n",
       "                                          32, ...]},\n",
       "             pre_dispatch='2*n_jobs', refit=True, return_train_score=False,\n",
       "             scoring='r2', verbose=0)"
      ]
     },
     "execution_count": 93,
     "metadata": {},
     "output_type": "execute_result"
    }
   ],
   "source": [
    "dtree_random.fit(x_train,y_train)"
   ]
  },
  {
   "cell_type": "code",
   "execution_count": 94,
   "metadata": {},
   "outputs": [
    {
     "data": {
      "text/plain": [
       "DecisionTreeRegressor(criterion='mae', max_depth=5, max_features=36,\n",
       "                      max_leaf_nodes=None, min_impurity_decrease=0.0,\n",
       "                      min_impurity_split=None, min_samples_leaf=1,\n",
       "                      min_samples_split=2, min_weight_fraction_leaf=0.0,\n",
       "                      presort=False, random_state=2, splitter='best')"
      ]
     },
     "execution_count": 94,
     "metadata": {},
     "output_type": "execute_result"
    }
   ],
   "source": [
    "dtree_random.best_estimator_"
   ]
  },
  {
   "cell_type": "code",
   "execution_count": 95,
   "metadata": {},
   "outputs": [
    {
     "data": {
      "text/plain": [
       "0.5945041075157999"
      ]
     },
     "execution_count": 95,
     "metadata": {},
     "output_type": "execute_result"
    }
   ],
   "source": [
    "dtree_random.best_score_"
   ]
  },
  {
   "cell_type": "code",
   "execution_count": 96,
   "metadata": {},
   "outputs": [
    {
     "data": {
      "text/plain": [
       "{'max_depth': 5, 'max_features': 36}"
      ]
     },
     "execution_count": 96,
     "metadata": {},
     "output_type": "execute_result"
    }
   ],
   "source": [
    "dtree_random.best_params_"
   ]
  },
  {
   "cell_type": "code",
   "execution_count": 97,
   "metadata": {},
   "outputs": [
    {
     "name": "stdout",
     "output_type": "stream",
     "text": [
      "Mean Absolute Error =  490.6946000000001\n",
      "Root Mean Square Error =  625577.2205853199\n",
      "Our model submission performance :  0.6933158749999999\n"
     ]
    }
   ],
   "source": [
    "dtree = dtree_random.best_estimator_\n",
    "dtree.fit(x_train,y_train)\n",
    "pred = dtree.predict(x_test)\n",
    "print('Mean Absolute Error = ', metrics.median_absolute_error(y_test,pred))\n",
    "print('Root Mean Square Error = ',my_rmse(y_test,pred))\n",
    "print(\"Our model submission performance : \",1-(metrics.median_absolute_error(y_test,pred)/1600))"
   ]
  },
  {
   "cell_type": "markdown",
   "metadata": {},
   "source": [
    "Even we tried for max_features and max_Depth combination MAE is not reduced its better that we go with the Random forest"
   ]
  },
  {
   "cell_type": "markdown",
   "metadata": {},
   "source": [
    "##### Building model on full training data and submission"
   ]
  },
  {
   "cell_type": "code",
   "execution_count": null,
   "metadata": {},
   "outputs": [],
   "source": [
    "x_training = training_data.drop('Counterfeit_Sales',axis='columns')\n",
    "y_training = training_data['Counterfeit_Sales']"
   ]
  },
  {
   "cell_type": "code",
   "execution_count": null,
   "metadata": {},
   "outputs": [],
   "source": [
    "lr.fit(x_training,y_training)\n",
    "pred = lr.predict(production_data)"
   ]
  },
  {
   "cell_type": "code",
   "execution_count": null,
   "metadata": {},
   "outputs": [],
   "source": [
    "production_medID = pd.read_csv(file_path + 'counterfeit_test.csv')"
   ]
  },
  {
   "cell_type": "code",
   "execution_count": null,
   "metadata": {},
   "outputs": [],
   "source": [
    "production_medID = production_medID['Medicine_ID']"
   ]
  },
  {
   "cell_type": "code",
   "execution_count": null,
   "metadata": {},
   "outputs": [],
   "source": [
    "submission_df = pd.DataFrame({\"Medicine_ID\": production_medID,\n",
    "                 'Counterfeit_Sales': pred})"
   ]
  },
  {
   "cell_type": "code",
   "execution_count": null,
   "metadata": {},
   "outputs": [],
   "source": [
    "submission_df.to_csv('part2 project3.csv',index=False)"
   ]
  },
  {
   "cell_type": "markdown",
   "metadata": {},
   "source": [
    "# Conclusion\n",
    "\n",
    "### Linear Regression\n",
    "\n",
    "Mean Absolute Error =  615.9795920660683\n",
    "\n",
    "Root Mean Square Error =  641656.7346209903\n",
    "\n",
    "Our model submission performance :  0.6150127549587072\n",
    "\n",
    "### Decision Tree\n",
    "\n",
    "Mean Absolute Error =  488.0314000000002\n",
    "\n",
    "Root Mean Square Error =  625993.4594418913\n",
    "\n",
    "Our model submission performance :  0.6949803749999999\n"
   ]
  }
 ],
 "metadata": {
  "kernelspec": {
   "display_name": "Python 3.7.4 64-bit ('base': conda)",
   "language": "python",
   "name": "python37464bitbaseconda62b3755346994f7ea430301e4cdaf1ba"
  },
  "language_info": {
   "codemirror_mode": {
    "name": "ipython",
    "version": 3
   },
   "file_extension": ".py",
   "mimetype": "text/x-python",
   "name": "python",
   "nbconvert_exporter": "python",
   "pygments_lexer": "ipython3",
   "version": "3.7.4"
  },
  "varInspector": {
   "cols": {
    "lenName": 16,
    "lenType": 16,
    "lenVar": 40
   },
   "kernels_config": {
    "python": {
     "delete_cmd_postfix": "",
     "delete_cmd_prefix": "del ",
     "library": "var_list.py",
     "varRefreshCmd": "print(var_dic_list())"
    },
    "r": {
     "delete_cmd_postfix": ") ",
     "delete_cmd_prefix": "rm(",
     "library": "var_list.r",
     "varRefreshCmd": "cat(var_dic_list()) "
    }
   },
   "types_to_exclude": [
    "module",
    "function",
    "builtin_function_or_method",
    "instance",
    "_Feature"
   ],
   "window_display": false
  }
 },
 "nbformat": 4,
 "nbformat_minor": 2
}
